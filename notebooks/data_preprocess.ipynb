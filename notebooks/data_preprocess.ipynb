{
 "cells": [
  {
   "cell_type": "code",
   "execution_count": 1,
   "id": "484bc86a",
   "metadata": {},
   "outputs": [],
   "source": [
    "import pandas as pd\n",
    "import numpy as np\n",
    "import matplotlib.pyplot as plt\n",
    "import seaborn as sns"
   ]
  },
  {
   "cell_type": "code",
   "execution_count": 2,
   "id": "37154dc1",
   "metadata": {},
   "outputs": [],
   "source": [
    "df = pd.read_csv(\"/workspaces/customer-support/data/rawdata/customer_support_tickets.csv\")"
   ]
  },
  {
   "cell_type": "code",
   "execution_count": 3,
   "id": "1e9502ec",
   "metadata": {},
   "outputs": [],
   "source": [
    "y = df['Ticket Priority']"
   ]
  },
  {
   "cell_type": "code",
   "execution_count": 4,
   "id": "8049af43",
   "metadata": {},
   "outputs": [
    {
     "data": {
      "text/plain": [
       "Index(['Ticket ID', 'Customer Name', 'Customer Email', 'Customer Age',\n",
       "       'Customer Gender', 'Product Purchased', 'Date of Purchase',\n",
       "       'Ticket Type', 'Ticket Subject', 'Ticket Description', 'Ticket Status',\n",
       "       'Resolution', 'Ticket Priority', 'Ticket Channel',\n",
       "       'First Response Time', 'Time to Resolution',\n",
       "       'Customer Satisfaction Rating'],\n",
       "      dtype='object')"
      ]
     },
     "execution_count": 4,
     "metadata": {},
     "output_type": "execute_result"
    }
   ],
   "source": [
    "df.columns"
   ]
  },
  {
   "cell_type": "code",
   "execution_count": 5,
   "id": "e61f632c",
   "metadata": {},
   "outputs": [],
   "source": [
    "selected = [\"Customer Age\", \"Customer Gender\", \"Product Purchased\", \"Date of Purchase\", \"Ticket Type\", \"Ticket Subject\", \"Ticket Description\", \"Ticket Status\", \"Ticket Channel\"]"
   ]
  },
  {
   "cell_type": "code",
   "execution_count": 6,
   "id": "7b0523d0",
   "metadata": {},
   "outputs": [
    {
     "data": {
      "text/plain": [
       "['Customer Age',\n",
       " 'Customer Gender',\n",
       " 'Product Purchased',\n",
       " 'Date of Purchase',\n",
       " 'Ticket Type',\n",
       " 'Ticket Subject',\n",
       " 'Ticket Description',\n",
       " 'Ticket Status',\n",
       " 'Ticket Channel']"
      ]
     },
     "execution_count": 6,
     "metadata": {},
     "output_type": "execute_result"
    }
   ],
   "source": [
    "selected"
   ]
  },
  {
   "cell_type": "code",
   "execution_count": 7,
   "id": "318443b4",
   "metadata": {},
   "outputs": [],
   "source": [
    "selected = ['Customer Age',\n",
    " 'Customer Gender',\n",
    " 'Product Purchased',\n",
    " 'Date of Purchase',\n",
    " 'Ticket Type',\n",
    " 'Ticket Subject',\n",
    " \"Ticket Description\", \"Ticket Status\",\n",
    " 'Ticket Channel']"
   ]
  },
  {
   "cell_type": "code",
   "execution_count": 8,
   "id": "72942d91",
   "metadata": {},
   "outputs": [],
   "source": [
    "x = df[selected]"
   ]
  },
  {
   "cell_type": "code",
   "execution_count": 9,
   "id": "6227d803",
   "metadata": {},
   "outputs": [
    {
     "name": "stderr",
     "output_type": "stream",
     "text": [
      "/tmp/ipykernel_37555/3129426567.py:2: SettingWithCopyWarning: \n",
      "A value is trying to be set on a copy of a slice from a DataFrame.\n",
      "Try using .loc[row_indexer,col_indexer] = value instead\n",
      "\n",
      "See the caveats in the documentation: https://pandas.pydata.org/pandas-docs/stable/user_guide/indexing.html#returning-a-view-versus-a-copy\n",
      "  x['Customer Gender'] = x['Customer Gender'].map(mappingender)\n"
     ]
    },
    {
     "data": {
      "application/vnd.microsoft.datawrangler.viewer.v0+json": {
       "columns": [
        {
         "name": "Customer Gender",
         "rawType": "int64",
         "type": "integer"
        },
        {
         "name": "count",
         "rawType": "int64",
         "type": "integer"
        }
       ],
       "ref": "cfb1fa25-400c-4229-988b-97c7743dba2a",
       "rows": [
        [
         "2",
         "2896"
        ],
        [
         "1",
         "2887"
        ],
        [
         "3",
         "2686"
        ]
       ],
       "shape": {
        "columns": 1,
        "rows": 3
       }
      },
      "text/plain": [
       "Customer Gender\n",
       "2    2896\n",
       "1    2887\n",
       "3    2686\n",
       "Name: count, dtype: int64"
      ]
     },
     "execution_count": 9,
     "metadata": {},
     "output_type": "execute_result"
    }
   ],
   "source": [
    "mappingender = {'Female': 1, 'Male': 2, 'Other': 3}\n",
    "x['Customer Gender'] = x['Customer Gender'].map(mappingender)\n",
    "x['Customer Gender'].value_counts()"
   ]
  },
  {
   "cell_type": "code",
   "execution_count": 10,
   "id": "9d5e1a51",
   "metadata": {},
   "outputs": [
    {
     "name": "stderr",
     "output_type": "stream",
     "text": [
      "/tmp/ipykernel_37555/433740192.py:2: SettingWithCopyWarning: \n",
      "A value is trying to be set on a copy of a slice from a DataFrame.\n",
      "Try using .loc[row_indexer,col_indexer] = value instead\n",
      "\n",
      "See the caveats in the documentation: https://pandas.pydata.org/pandas-docs/stable/user_guide/indexing.html#returning-a-view-versus-a-copy\n",
      "  x['Ticket Type'] = x['Ticket Type'].map(tickettypemapping)\n"
     ]
    },
    {
     "data": {
      "application/vnd.microsoft.datawrangler.viewer.v0+json": {
       "columns": [
        {
         "name": "Ticket Type",
         "rawType": "float64",
         "type": "float"
        },
        {
         "name": "count",
         "rawType": "int64",
         "type": "integer"
        }
       ],
       "ref": "31dfbc1f-bcfb-4218-87e8-269660b7d90a",
       "rows": [
        [
         "1.0",
         "1752"
        ],
        [
         "2.0",
         "1747"
        ]
       ],
       "shape": {
        "columns": 1,
        "rows": 2
       }
      },
      "text/plain": [
       "Ticket Type\n",
       "1.0    1752\n",
       "2.0    1747\n",
       "Name: count, dtype: int64"
      ]
     },
     "execution_count": 10,
     "metadata": {},
     "output_type": "execute_result"
    }
   ],
   "source": [
    "tickettypemapping = {'Refund request': 1, 'Technical issue': 2, 'Cancellation Request': 3, 'Product Inquiry': 4, 'Billing Inquiry': 5}\n",
    "x['Ticket Type'] = x['Ticket Type'].map(tickettypemapping)\n",
    "x['Ticket Type'].value_counts()"
   ]
  },
  {
   "cell_type": "code",
   "execution_count": 11,
   "id": "707f2750",
   "metadata": {},
   "outputs": [
    {
     "name": "stderr",
     "output_type": "stream",
     "text": [
      "/tmp/ipykernel_37555/3442542546.py:1: SettingWithCopyWarning: \n",
      "A value is trying to be set on a copy of a slice from a DataFrame.\n",
      "Try using .loc[row_indexer,col_indexer] = value instead\n",
      "\n",
      "See the caveats in the documentation: https://pandas.pydata.org/pandas-docs/stable/user_guide/indexing.html#returning-a-view-versus-a-copy\n",
      "  x['Date of Purchase'] = pd.to_datetime(x['Date of Purchase'])\n",
      "/tmp/ipykernel_37555/3442542546.py:2: SettingWithCopyWarning: \n",
      "A value is trying to be set on a copy of a slice from a DataFrame.\n",
      "Try using .loc[row_indexer,col_indexer] = value instead\n",
      "\n",
      "See the caveats in the documentation: https://pandas.pydata.org/pandas-docs/stable/user_guide/indexing.html#returning-a-view-versus-a-copy\n",
      "  x['purchaseday'] = x['Date of Purchase'].dt.day\n",
      "/tmp/ipykernel_37555/3442542546.py:3: SettingWithCopyWarning: \n",
      "A value is trying to be set on a copy of a slice from a DataFrame.\n",
      "Try using .loc[row_indexer,col_indexer] = value instead\n",
      "\n",
      "See the caveats in the documentation: https://pandas.pydata.org/pandas-docs/stable/user_guide/indexing.html#returning-a-view-versus-a-copy\n",
      "  x['purchasemonth'] = x['Date of Purchase'].dt.month\n",
      "/tmp/ipykernel_37555/3442542546.py:4: SettingWithCopyWarning: \n",
      "A value is trying to be set on a copy of a slice from a DataFrame.\n",
      "Try using .loc[row_indexer,col_indexer] = value instead\n",
      "\n",
      "See the caveats in the documentation: https://pandas.pydata.org/pandas-docs/stable/user_guide/indexing.html#returning-a-view-versus-a-copy\n",
      "  x['purchaseyear'] = x['Date of Purchase'].dt.year\n"
     ]
    },
    {
     "data": {
      "application/vnd.microsoft.datawrangler.viewer.v0+json": {
       "columns": [
        {
         "name": "index",
         "rawType": "int64",
         "type": "integer"
        },
        {
         "name": "Customer Age",
         "rawType": "int64",
         "type": "integer"
        },
        {
         "name": "Customer Gender",
         "rawType": "int64",
         "type": "integer"
        },
        {
         "name": "Product Purchased",
         "rawType": "object",
         "type": "string"
        },
        {
         "name": "Date of Purchase",
         "rawType": "datetime64[ns]",
         "type": "datetime"
        },
        {
         "name": "Ticket Type",
         "rawType": "float64",
         "type": "float"
        },
        {
         "name": "Ticket Subject",
         "rawType": "object",
         "type": "string"
        },
        {
         "name": "Ticket Description",
         "rawType": "object",
         "type": "string"
        },
        {
         "name": "Ticket Status",
         "rawType": "object",
         "type": "string"
        },
        {
         "name": "Ticket Channel",
         "rawType": "object",
         "type": "string"
        },
        {
         "name": "purchaseday",
         "rawType": "int32",
         "type": "integer"
        },
        {
         "name": "purchasemonth",
         "rawType": "int32",
         "type": "integer"
        },
        {
         "name": "purchaseyear",
         "rawType": "int32",
         "type": "integer"
        }
       ],
       "ref": "3de27fb4-af20-4c79-9844-eaa2c7a36acf",
       "rows": [
        [
         "0",
         "32",
         "3",
         "GoPro Hero",
         "2021-03-22 00:00:00",
         "2.0",
         "Product setup",
         "I'm having an issue with the {product_purchased}. Please assist.\n\nYour billing zip code is: 71701.\n\nWe appreciate that you have requested a website address.\n\nPlease double check your email address. I've tried troubleshooting steps mentioned in the user manual, but the issue persists.",
         "Pending Customer Response",
         "Social media",
         "22",
         "3",
         "2021"
        ],
        [
         "1",
         "42",
         "1",
         "LG Smart TV",
         "2021-05-22 00:00:00",
         "2.0",
         "Peripheral compatibility",
         "I'm having an issue with the {product_purchased}. Please assist.\n\nIf you need to change an existing product.\n\nI'm having an issue with the {product_purchased}. Please assist.\n\nIf The issue I'm facing is intermittent. Sometimes it works fine, but other times it acts up unexpectedly.",
         "Pending Customer Response",
         "Chat",
         "22",
         "5",
         "2021"
        ],
        [
         "2",
         "48",
         "3",
         "Dell XPS",
         "2020-07-14 00:00:00",
         "2.0",
         "Network problem",
         "I'm facing a problem with my {product_purchased}. The {product_purchased} is not turning on. It was working fine until yesterday, but now it doesn't respond.\n\n1.8.3 I really I'm using the original charger that came with my {product_purchased}, but it's not charging properly.",
         "Closed",
         "Social media",
         "14",
         "7",
         "2020"
        ],
        [
         "3",
         "27",
         "1",
         "Microsoft Office",
         "2020-11-13 00:00:00",
         null,
         "Account access",
         "I'm having an issue with the {product_purchased}. Please assist.\n\nIf you have a problem you're interested in and I'd love to see this happen, please check out the Feedback. I've already contacted customer support multiple times, but the issue remains unresolved.",
         "Closed",
         "Social media",
         "13",
         "11",
         "2020"
        ],
        [
         "4",
         "67",
         "1",
         "Autodesk AutoCAD",
         "2020-02-04 00:00:00",
         null,
         "Data loss",
         "I'm having an issue with the {product_purchased}. Please assist.\n\n\nNote: The seller is not responsible for any damages arising out of the delivery of the battleground game. Please have the game in good condition and shipped to you I've noticed a sudden decrease in battery life on my {product_purchased}. It used to last much longer.",
         "Closed",
         "Email",
         "4",
         "2",
         "2020"
        ]
       ],
       "shape": {
        "columns": 12,
        "rows": 5
       }
      },
      "text/html": [
       "<div>\n",
       "<style scoped>\n",
       "    .dataframe tbody tr th:only-of-type {\n",
       "        vertical-align: middle;\n",
       "    }\n",
       "\n",
       "    .dataframe tbody tr th {\n",
       "        vertical-align: top;\n",
       "    }\n",
       "\n",
       "    .dataframe thead th {\n",
       "        text-align: right;\n",
       "    }\n",
       "</style>\n",
       "<table border=\"1\" class=\"dataframe\">\n",
       "  <thead>\n",
       "    <tr style=\"text-align: right;\">\n",
       "      <th></th>\n",
       "      <th>Customer Age</th>\n",
       "      <th>Customer Gender</th>\n",
       "      <th>Product Purchased</th>\n",
       "      <th>Date of Purchase</th>\n",
       "      <th>Ticket Type</th>\n",
       "      <th>Ticket Subject</th>\n",
       "      <th>Ticket Description</th>\n",
       "      <th>Ticket Status</th>\n",
       "      <th>Ticket Channel</th>\n",
       "      <th>purchaseday</th>\n",
       "      <th>purchasemonth</th>\n",
       "      <th>purchaseyear</th>\n",
       "    </tr>\n",
       "  </thead>\n",
       "  <tbody>\n",
       "    <tr>\n",
       "      <th>0</th>\n",
       "      <td>32</td>\n",
       "      <td>3</td>\n",
       "      <td>GoPro Hero</td>\n",
       "      <td>2021-03-22</td>\n",
       "      <td>2.0</td>\n",
       "      <td>Product setup</td>\n",
       "      <td>I'm having an issue with the {product_purchase...</td>\n",
       "      <td>Pending Customer Response</td>\n",
       "      <td>Social media</td>\n",
       "      <td>22</td>\n",
       "      <td>3</td>\n",
       "      <td>2021</td>\n",
       "    </tr>\n",
       "    <tr>\n",
       "      <th>1</th>\n",
       "      <td>42</td>\n",
       "      <td>1</td>\n",
       "      <td>LG Smart TV</td>\n",
       "      <td>2021-05-22</td>\n",
       "      <td>2.0</td>\n",
       "      <td>Peripheral compatibility</td>\n",
       "      <td>I'm having an issue with the {product_purchase...</td>\n",
       "      <td>Pending Customer Response</td>\n",
       "      <td>Chat</td>\n",
       "      <td>22</td>\n",
       "      <td>5</td>\n",
       "      <td>2021</td>\n",
       "    </tr>\n",
       "    <tr>\n",
       "      <th>2</th>\n",
       "      <td>48</td>\n",
       "      <td>3</td>\n",
       "      <td>Dell XPS</td>\n",
       "      <td>2020-07-14</td>\n",
       "      <td>2.0</td>\n",
       "      <td>Network problem</td>\n",
       "      <td>I'm facing a problem with my {product_purchase...</td>\n",
       "      <td>Closed</td>\n",
       "      <td>Social media</td>\n",
       "      <td>14</td>\n",
       "      <td>7</td>\n",
       "      <td>2020</td>\n",
       "    </tr>\n",
       "    <tr>\n",
       "      <th>3</th>\n",
       "      <td>27</td>\n",
       "      <td>1</td>\n",
       "      <td>Microsoft Office</td>\n",
       "      <td>2020-11-13</td>\n",
       "      <td>NaN</td>\n",
       "      <td>Account access</td>\n",
       "      <td>I'm having an issue with the {product_purchase...</td>\n",
       "      <td>Closed</td>\n",
       "      <td>Social media</td>\n",
       "      <td>13</td>\n",
       "      <td>11</td>\n",
       "      <td>2020</td>\n",
       "    </tr>\n",
       "    <tr>\n",
       "      <th>4</th>\n",
       "      <td>67</td>\n",
       "      <td>1</td>\n",
       "      <td>Autodesk AutoCAD</td>\n",
       "      <td>2020-02-04</td>\n",
       "      <td>NaN</td>\n",
       "      <td>Data loss</td>\n",
       "      <td>I'm having an issue with the {product_purchase...</td>\n",
       "      <td>Closed</td>\n",
       "      <td>Email</td>\n",
       "      <td>4</td>\n",
       "      <td>2</td>\n",
       "      <td>2020</td>\n",
       "    </tr>\n",
       "  </tbody>\n",
       "</table>\n",
       "</div>"
      ],
      "text/plain": [
       "   Customer Age  Customer Gender Product Purchased Date of Purchase  \\\n",
       "0            32                3        GoPro Hero       2021-03-22   \n",
       "1            42                1       LG Smart TV       2021-05-22   \n",
       "2            48                3          Dell XPS       2020-07-14   \n",
       "3            27                1  Microsoft Office       2020-11-13   \n",
       "4            67                1  Autodesk AutoCAD       2020-02-04   \n",
       "\n",
       "   Ticket Type            Ticket Subject  \\\n",
       "0          2.0             Product setup   \n",
       "1          2.0  Peripheral compatibility   \n",
       "2          2.0           Network problem   \n",
       "3          NaN            Account access   \n",
       "4          NaN                 Data loss   \n",
       "\n",
       "                                  Ticket Description  \\\n",
       "0  I'm having an issue with the {product_purchase...   \n",
       "1  I'm having an issue with the {product_purchase...   \n",
       "2  I'm facing a problem with my {product_purchase...   \n",
       "3  I'm having an issue with the {product_purchase...   \n",
       "4  I'm having an issue with the {product_purchase...   \n",
       "\n",
       "               Ticket Status Ticket Channel  purchaseday  purchasemonth  \\\n",
       "0  Pending Customer Response   Social media           22              3   \n",
       "1  Pending Customer Response           Chat           22              5   \n",
       "2                     Closed   Social media           14              7   \n",
       "3                     Closed   Social media           13             11   \n",
       "4                     Closed          Email            4              2   \n",
       "\n",
       "   purchaseyear  \n",
       "0          2021  \n",
       "1          2021  \n",
       "2          2020  \n",
       "3          2020  \n",
       "4          2020  "
      ]
     },
     "execution_count": 11,
     "metadata": {},
     "output_type": "execute_result"
    }
   ],
   "source": [
    "x['Date of Purchase'] = pd.to_datetime(x['Date of Purchase'])\n",
    "x['purchaseday'] = x['Date of Purchase'].dt.day\n",
    "x['purchasemonth'] = x['Date of Purchase'].dt.month\n",
    "x['purchaseyear'] = x['Date of Purchase'].dt.year\n",
    "x.head()"
   ]
  },
  {
   "cell_type": "code",
   "execution_count": 13,
   "id": "64b17574",
   "metadata": {},
   "outputs": [],
   "source": [
    "objcols = ['Product Purchased', 'Ticket Subject', 'Ticket Status', 'Ticket Channel']\n",
    "from sklearn.preprocessing import LabelEncoder\n",
    "le = LabelEncoder()"
   ]
  },
  {
   "cell_type": "markdown",
   "id": "c202ba85",
   "metadata": {},
   "source": [
    "%uv pip install beautifulsoup4 nltk "
   ]
  },
  {
   "cell_type": "code",
   "execution_count": 14,
   "id": "8a07487a",
   "metadata": {},
   "outputs": [
    {
     "name": "stderr",
     "output_type": "stream",
     "text": [
      "/tmp/ipykernel_37555/1967269891.py:2: SettingWithCopyWarning: \n",
      "A value is trying to be set on a copy of a slice from a DataFrame.\n",
      "Try using .loc[row_indexer,col_indexer] = value instead\n",
      "\n",
      "See the caveats in the documentation: https://pandas.pydata.org/pandas-docs/stable/user_guide/indexing.html#returning-a-view-versus-a-copy\n",
      "  x[col] = le.fit_transform(x[col])\n",
      "/tmp/ipykernel_37555/1967269891.py:2: SettingWithCopyWarning: \n",
      "A value is trying to be set on a copy of a slice from a DataFrame.\n",
      "Try using .loc[row_indexer,col_indexer] = value instead\n",
      "\n",
      "See the caveats in the documentation: https://pandas.pydata.org/pandas-docs/stable/user_guide/indexing.html#returning-a-view-versus-a-copy\n",
      "  x[col] = le.fit_transform(x[col])\n",
      "/tmp/ipykernel_37555/1967269891.py:2: SettingWithCopyWarning: \n",
      "A value is trying to be set on a copy of a slice from a DataFrame.\n",
      "Try using .loc[row_indexer,col_indexer] = value instead\n",
      "\n",
      "See the caveats in the documentation: https://pandas.pydata.org/pandas-docs/stable/user_guide/indexing.html#returning-a-view-versus-a-copy\n",
      "  x[col] = le.fit_transform(x[col])\n",
      "/tmp/ipykernel_37555/1967269891.py:2: SettingWithCopyWarning: \n",
      "A value is trying to be set on a copy of a slice from a DataFrame.\n",
      "Try using .loc[row_indexer,col_indexer] = value instead\n",
      "\n",
      "See the caveats in the documentation: https://pandas.pydata.org/pandas-docs/stable/user_guide/indexing.html#returning-a-view-versus-a-copy\n",
      "  x[col] = le.fit_transform(x[col])\n"
     ]
    }
   ],
   "source": [
    "for col in objcols:\n",
    "    x[col] = le.fit_transform(x[col])"
   ]
  },
  {
   "cell_type": "code",
   "execution_count": 15,
   "id": "08755785",
   "metadata": {},
   "outputs": [
    {
     "name": "stderr",
     "output_type": "stream",
     "text": [
      "[nltk_data] Downloading package stopwords to\n",
      "[nltk_data]     /home/codespace/nltk_data...\n",
      "[nltk_data]   Unzipping corpora/stopwords.zip.\n",
      "[nltk_data] Downloading package wordnet to\n",
      "[nltk_data]     /home/codespace/nltk_data...\n",
      "[nltk_data] Downloading package omw-1.4 to\n",
      "[nltk_data]     /home/codespace/nltk_data...\n",
      "/tmp/ipykernel_37555/883692815.py:48: SettingWithCopyWarning: \n",
      "A value is trying to be set on a copy of a slice from a DataFrame.\n",
      "Try using .loc[row_indexer,col_indexer] = value instead\n",
      "\n",
      "See the caveats in the documentation: https://pandas.pydata.org/pandas-docs/stable/user_guide/indexing.html#returning-a-view-versus-a-copy\n",
      "  df[column_name + \"_clean\"] = df[column_name].apply(clean_text)\n"
     ]
    }
   ],
   "source": [
    "import pandas as pd\n",
    "import re\n",
    "import string\n",
    "from bs4 import BeautifulSoup\n",
    "from nltk.corpus import stopwords\n",
    "from nltk.stem import WordNetLemmatizer\n",
    "import nltk\n",
    "\n",
    "# Download required NLTK resources (only run once)\n",
    "nltk.download('stopwords')\n",
    "nltk.download('wordnet')\n",
    "nltk.download('omw-1.4')\n",
    "\n",
    "def clean_text_column(df, column_name, lemmatize=True):\n",
    "    stop_words = set(stopwords.words('english'))\n",
    "    lemmatizer = WordNetLemmatizer()\n",
    "\n",
    "    def clean_text(text):\n",
    "        if pd.isnull(text):\n",
    "            return \"\"\n",
    "        text = str(text)\n",
    "\n",
    "        # Lowercase\n",
    "        text = text.lower()\n",
    "\n",
    "        # Remove HTML\n",
    "        text = BeautifulSoup(text, \"html.parser\").get_text()\n",
    "\n",
    "        # Remove URLs\n",
    "        text = re.sub(r\"http\\S+|www\\S+|https\\S+\", '', text, flags=re.MULTILINE)\n",
    "\n",
    "        # Remove punctuation and numbers\n",
    "        text = re.sub(r\"[^a-zA-Z\\s]\", '', text)\n",
    "\n",
    "        # Remove extra whitespaces\n",
    "        text = re.sub(r\"\\s+\", ' ', text).strip()\n",
    "\n",
    "        # Remove stopwords\n",
    "        tokens = text.split()\n",
    "        tokens = [word for word in tokens if word not in stop_words]\n",
    "\n",
    "        # Lemmatize (optional)\n",
    "        if lemmatize:\n",
    "            tokens = [lemmatizer.lemmatize(word) for word in tokens]\n",
    "\n",
    "        return ' '.join(tokens)\n",
    "\n",
    "    df[column_name + \"_clean\"] = df[column_name].apply(clean_text)\n",
    "    return df\n",
    "x = clean_text_column(x, 'Ticket Description')"
   ]
  },
  {
   "cell_type": "code",
   "execution_count": 16,
   "id": "1b97ef4d",
   "metadata": {},
   "outputs": [
    {
     "name": "stderr",
     "output_type": "stream",
     "text": [
      "/tmp/ipykernel_37555/883692815.py:48: SettingWithCopyWarning: \n",
      "A value is trying to be set on a copy of a slice from a DataFrame.\n",
      "Try using .loc[row_indexer,col_indexer] = value instead\n",
      "\n",
      "See the caveats in the documentation: https://pandas.pydata.org/pandas-docs/stable/user_guide/indexing.html#returning-a-view-versus-a-copy\n",
      "  df[column_name + \"_clean\"] = df[column_name].apply(clean_text)\n"
     ]
    }
   ],
   "source": [
    "x = clean_text_column(x, 'Ticket Description')"
   ]
  },
  {
   "cell_type": "code",
   "execution_count": 17,
   "id": "3ebe411e",
   "metadata": {},
   "outputs": [
    {
     "data": {
      "text/plain": [
       "Index(['Customer Age', 'Customer Gender', 'Product Purchased',\n",
       "       'Date of Purchase', 'Ticket Type', 'Ticket Subject',\n",
       "       'Ticket Description', 'Ticket Status', 'Ticket Channel', 'purchaseday',\n",
       "       'purchasemonth', 'purchaseyear', 'Ticket Description_clean'],\n",
       "      dtype='object')"
      ]
     },
     "execution_count": 17,
     "metadata": {},
     "output_type": "execute_result"
    }
   ],
   "source": [
    "x.columns\n"
   ]
  },
  {
   "cell_type": "code",
   "execution_count": 18,
   "id": "e7f3017c",
   "metadata": {},
   "outputs": [],
   "source": [
    "from sklearn.feature_extraction.text import TfidfVectorizer"
   ]
  },
  {
   "cell_type": "code",
   "execution_count": 19,
   "id": "76417e43",
   "metadata": {},
   "outputs": [],
   "source": [
    "tfidf = TfidfVectorizer()"
   ]
  },
  {
   "cell_type": "code",
   "execution_count": 20,
   "id": "c7c2eafc",
   "metadata": {},
   "outputs": [],
   "source": [
    "tf = tfidf.fit_transform(x['Ticket Description_clean']).toarray()"
   ]
  },
  {
   "cell_type": "code",
   "execution_count": 21,
   "id": "6518a894",
   "metadata": {},
   "outputs": [],
   "source": [
    "xcleaneddiscip = pd.DataFrame(data=tf, columns=tfidf.get_feature_names_out())"
   ]
  },
  {
   "cell_type": "code",
   "execution_count": null,
   "id": "a43a2897",
   "metadata": {},
   "outputs": [],
   "source": []
  }
 ],
 "metadata": {
  "kernelspec": {
   "display_name": ".venv",
   "language": "python",
   "name": "python3"
  },
  "language_info": {
   "codemirror_mode": {
    "name": "ipython",
    "version": 3
   },
   "file_extension": ".py",
   "mimetype": "text/x-python",
   "name": "python",
   "nbconvert_exporter": "python",
   "pygments_lexer": "ipython3",
   "version": "3.12.3"
  }
 },
 "nbformat": 4,
 "nbformat_minor": 5
}

{
 "cells": [
  {
   "cell_type": "code",
   "execution_count": 1,
   "id": "484bc86a",
   "metadata": {},
   "outputs": [],
   "source": [
    "import pandas as pd\n",
    "import numpy as np\n",
    "import matplotlib.pyplot as plt\n",
    "import seaborn as sns"
   ]
  },
  {
   "cell_type": "code",
   "execution_count": 7,
   "id": "37154dc1",
   "metadata": {},
   "outputs": [],
   "source": [
    "df = pd.read_csv(\"/workspaces/customer-support/data/rawdata/customer_support_tickets.csv\")"
   ]
  },
  {
   "cell_type": "code",
   "execution_count": 8,
   "id": "1e9502ec",
   "metadata": {},
   "outputs": [],
   "source": [
    "y = df['Ticket Priority']"
   ]
  },
  {
   "cell_type": "code",
   "execution_count": 13,
   "id": "8049af43",
   "metadata": {},
   "outputs": [
    {
     "data": {
      "text/plain": [
       "Index(['Ticket ID', 'Customer Name', 'Customer Email', 'Customer Age',\n",
       "       'Customer Gender', 'Product Purchased', 'Date of Purchase',\n",
       "       'Ticket Type', 'Ticket Subject', 'Ticket Description', 'Ticket Status',\n",
       "       'Resolution', 'Ticket Priority', 'Ticket Channel',\n",
       "       'First Response Time', 'Time to Resolution',\n",
       "       'Customer Satisfaction Rating'],\n",
       "      dtype='object')"
      ]
     },
     "execution_count": 13,
     "metadata": {},
     "output_type": "execute_result"
    }
   ],
   "source": [
    "df.columns"
   ]
  },
  {
   "cell_type": "code",
   "execution_count": null,
   "id": "e61f632c",
   "metadata": {},
   "outputs": [],
   "source": [
    "selected = [\"Customer Age\", \"Customer Gender\", \"Product Purchased\", \"Date of Purchase\", \"Ticket Type\", \"Ticket Subject\", \"Ticket Description\", \"Ticket Status\", \"Ticket Channel\"]"
   ]
  },
  {
   "cell_type": "code",
   "execution_count": 17,
   "id": "7b0523d0",
   "metadata": {},
   "outputs": [
    {
     "data": {
      "text/plain": [
       "['Customer Age',\n",
       " 'Customer Gender',\n",
       " 'Product Purchased',\n",
       " 'Date of Purchase',\n",
       " 'Ticket Type',\n",
       " 'Ticket Subject',\n",
       " 'Ticket Description, Ticket Status',\n",
       " 'Ticket Channel']"
      ]
     },
     "execution_count": 17,
     "metadata": {},
     "output_type": "execute_result"
    }
   ],
   "source": [
    "selected"
   ]
  },
  {
   "cell_type": "code",
   "execution_count": 19,
   "id": "318443b4",
   "metadata": {},
   "outputs": [],
   "source": [
    "selected = ['Customer Age',\n",
    " 'Customer Gender',\n",
    " 'Product Purchased',\n",
    " 'Date of Purchase',\n",
    " 'Ticket Type',\n",
    " 'Ticket Subject',\n",
    " \"Ticket Description\", \"Ticket Status\",\n",
    " 'Ticket Channel']"
   ]
  },
  {
   "cell_type": "code",
   "execution_count": 20,
   "id": "72942d91",
   "metadata": {},
   "outputs": [],
   "source": [
    "x = df[selected]"
   ]
  },
  {
   "cell_type": "code",
   "execution_count": 21,
   "id": "6227d803",
   "metadata": {},
   "outputs": [
    {
     "name": "stderr",
     "output_type": "stream",
     "text": [
      "/tmp/ipykernel_21634/3129426567.py:2: SettingWithCopyWarning: \n",
      "A value is trying to be set on a copy of a slice from a DataFrame.\n",
      "Try using .loc[row_indexer,col_indexer] = value instead\n",
      "\n",
      "See the caveats in the documentation: https://pandas.pydata.org/pandas-docs/stable/user_guide/indexing.html#returning-a-view-versus-a-copy\n",
      "  x['Customer Gender'] = x['Customer Gender'].map(mappingender)\n"
     ]
    },
    {
     "data": {
      "application/vnd.microsoft.datawrangler.viewer.v0+json": {
       "columns": [
        {
         "name": "Customer Gender",
         "rawType": "int64",
         "type": "integer"
        },
        {
         "name": "count",
         "rawType": "int64",
         "type": "integer"
        }
       ],
       "ref": "38cffc88-c3a3-4dda-89ac-4917bf9f4a4f",
       "rows": [
        [
         "2",
         "2896"
        ],
        [
         "1",
         "2887"
        ],
        [
         "3",
         "2686"
        ]
       ],
       "shape": {
        "columns": 1,
        "rows": 3
       }
      },
      "text/plain": [
       "Customer Gender\n",
       "2    2896\n",
       "1    2887\n",
       "3    2686\n",
       "Name: count, dtype: int64"
      ]
     },
     "execution_count": 21,
     "metadata": {},
     "output_type": "execute_result"
    }
   ],
   "source": [
    "mappingender = {'Female': 1, 'Male': 2, 'Other': 3}\n",
    "x['Customer Gender'] = x['Customer Gender'].map(mappingender)\n",
    "x['Customer Gender'].value_counts()"
   ]
  },
  {
   "cell_type": "code",
   "execution_count": 22,
   "id": "9d5e1a51",
   "metadata": {},
   "outputs": [
    {
     "name": "stderr",
     "output_type": "stream",
     "text": [
      "/tmp/ipykernel_21634/433740192.py:2: SettingWithCopyWarning: \n",
      "A value is trying to be set on a copy of a slice from a DataFrame.\n",
      "Try using .loc[row_indexer,col_indexer] = value instead\n",
      "\n",
      "See the caveats in the documentation: https://pandas.pydata.org/pandas-docs/stable/user_guide/indexing.html#returning-a-view-versus-a-copy\n",
      "  x['Ticket Type'] = x['Ticket Type'].map(tickettypemapping)\n"
     ]
    },
    {
     "data": {
      "application/vnd.microsoft.datawrangler.viewer.v0+json": {
       "columns": [
        {
         "name": "Ticket Type",
         "rawType": "float64",
         "type": "float"
        },
        {
         "name": "count",
         "rawType": "int64",
         "type": "integer"
        }
       ],
       "ref": "092159d1-73c4-49dc-872a-f942c03a796a",
       "rows": [
        [
         "1.0",
         "1752"
        ],
        [
         "2.0",
         "1747"
        ]
       ],
       "shape": {
        "columns": 1,
        "rows": 2
       }
      },
      "text/plain": [
       "Ticket Type\n",
       "1.0    1752\n",
       "2.0    1747\n",
       "Name: count, dtype: int64"
      ]
     },
     "execution_count": 22,
     "metadata": {},
     "output_type": "execute_result"
    }
   ],
   "source": [
    "tickettypemapping = {'Refund request': 1, 'Technical issue': 2, 'Cancellation Request': 3, 'Product Inquiry': 4, 'Billing Inquiry': 5}\n",
    "x['Ticket Type'] = x['Ticket Type'].map(tickettypemapping)\n",
    "x['Ticket Type'].value_counts()"
   ]
  },
  {
   "cell_type": "code",
   "execution_count": 23,
   "id": "707f2750",
   "metadata": {},
   "outputs": [
    {
     "name": "stderr",
     "output_type": "stream",
     "text": [
      "/tmp/ipykernel_21634/3442542546.py:1: SettingWithCopyWarning: \n",
      "A value is trying to be set on a copy of a slice from a DataFrame.\n",
      "Try using .loc[row_indexer,col_indexer] = value instead\n",
      "\n",
      "See the caveats in the documentation: https://pandas.pydata.org/pandas-docs/stable/user_guide/indexing.html#returning-a-view-versus-a-copy\n",
      "  x['Date of Purchase'] = pd.to_datetime(x['Date of Purchase'])\n",
      "/tmp/ipykernel_21634/3442542546.py:2: SettingWithCopyWarning: \n",
      "A value is trying to be set on a copy of a slice from a DataFrame.\n",
      "Try using .loc[row_indexer,col_indexer] = value instead\n",
      "\n",
      "See the caveats in the documentation: https://pandas.pydata.org/pandas-docs/stable/user_guide/indexing.html#returning-a-view-versus-a-copy\n",
      "  x['purchaseday'] = x['Date of Purchase'].dt.day\n",
      "/tmp/ipykernel_21634/3442542546.py:3: SettingWithCopyWarning: \n",
      "A value is trying to be set on a copy of a slice from a DataFrame.\n",
      "Try using .loc[row_indexer,col_indexer] = value instead\n",
      "\n",
      "See the caveats in the documentation: https://pandas.pydata.org/pandas-docs/stable/user_guide/indexing.html#returning-a-view-versus-a-copy\n",
      "  x['purchasemonth'] = x['Date of Purchase'].dt.month\n",
      "/tmp/ipykernel_21634/3442542546.py:4: SettingWithCopyWarning: \n",
      "A value is trying to be set on a copy of a slice from a DataFrame.\n",
      "Try using .loc[row_indexer,col_indexer] = value instead\n",
      "\n",
      "See the caveats in the documentation: https://pandas.pydata.org/pandas-docs/stable/user_guide/indexing.html#returning-a-view-versus-a-copy\n",
      "  x['purchaseyear'] = x['Date of Purchase'].dt.year\n"
     ]
    },
    {
     "data": {
      "application/vnd.microsoft.datawrangler.viewer.v0+json": {
       "columns": [
        {
         "name": "index",
         "rawType": "int64",
         "type": "integer"
        },
        {
         "name": "Customer Age",
         "rawType": "int64",
         "type": "integer"
        },
        {
         "name": "Customer Gender",
         "rawType": "int64",
         "type": "integer"
        },
        {
         "name": "Product Purchased",
         "rawType": "object",
         "type": "string"
        },
        {
         "name": "Date of Purchase",
         "rawType": "datetime64[ns]",
         "type": "datetime"
        },
        {
         "name": "Ticket Type",
         "rawType": "float64",
         "type": "float"
        },
        {
         "name": "Ticket Subject",
         "rawType": "object",
         "type": "string"
        },
        {
         "name": "Ticket Description",
         "rawType": "object",
         "type": "string"
        },
        {
         "name": "Ticket Status",
         "rawType": "object",
         "type": "string"
        },
        {
         "name": "Ticket Channel",
         "rawType": "object",
         "type": "string"
        },
        {
         "name": "purchaseday",
         "rawType": "int32",
         "type": "integer"
        },
        {
         "name": "purchasemonth",
         "rawType": "int32",
         "type": "integer"
        },
        {
         "name": "purchaseyear",
         "rawType": "int32",
         "type": "integer"
        }
       ],
       "ref": "ca6097ba-a8e7-4315-b63d-3c7856d34245",
       "rows": [
        [
         "0",
         "32",
         "3",
         "GoPro Hero",
         "2021-03-22 00:00:00",
         "2.0",
         "Product setup",
         "I'm having an issue with the {product_purchased}. Please assist.\n\nYour billing zip code is: 71701.\n\nWe appreciate that you have requested a website address.\n\nPlease double check your email address. I've tried troubleshooting steps mentioned in the user manual, but the issue persists.",
         "Pending Customer Response",
         "Social media",
         "22",
         "3",
         "2021"
        ],
        [
         "1",
         "42",
         "1",
         "LG Smart TV",
         "2021-05-22 00:00:00",
         "2.0",
         "Peripheral compatibility",
         "I'm having an issue with the {product_purchased}. Please assist.\n\nIf you need to change an existing product.\n\nI'm having an issue with the {product_purchased}. Please assist.\n\nIf The issue I'm facing is intermittent. Sometimes it works fine, but other times it acts up unexpectedly.",
         "Pending Customer Response",
         "Chat",
         "22",
         "5",
         "2021"
        ],
        [
         "2",
         "48",
         "3",
         "Dell XPS",
         "2020-07-14 00:00:00",
         "2.0",
         "Network problem",
         "I'm facing a problem with my {product_purchased}. The {product_purchased} is not turning on. It was working fine until yesterday, but now it doesn't respond.\n\n1.8.3 I really I'm using the original charger that came with my {product_purchased}, but it's not charging properly.",
         "Closed",
         "Social media",
         "14",
         "7",
         "2020"
        ],
        [
         "3",
         "27",
         "1",
         "Microsoft Office",
         "2020-11-13 00:00:00",
         null,
         "Account access",
         "I'm having an issue with the {product_purchased}. Please assist.\n\nIf you have a problem you're interested in and I'd love to see this happen, please check out the Feedback. I've already contacted customer support multiple times, but the issue remains unresolved.",
         "Closed",
         "Social media",
         "13",
         "11",
         "2020"
        ],
        [
         "4",
         "67",
         "1",
         "Autodesk AutoCAD",
         "2020-02-04 00:00:00",
         null,
         "Data loss",
         "I'm having an issue with the {product_purchased}. Please assist.\n\n\nNote: The seller is not responsible for any damages arising out of the delivery of the battleground game. Please have the game in good condition and shipped to you I've noticed a sudden decrease in battery life on my {product_purchased}. It used to last much longer.",
         "Closed",
         "Email",
         "4",
         "2",
         "2020"
        ]
       ],
       "shape": {
        "columns": 12,
        "rows": 5
       }
      },
      "text/html": [
       "<div>\n",
       "<style scoped>\n",
       "    .dataframe tbody tr th:only-of-type {\n",
       "        vertical-align: middle;\n",
       "    }\n",
       "\n",
       "    .dataframe tbody tr th {\n",
       "        vertical-align: top;\n",
       "    }\n",
       "\n",
       "    .dataframe thead th {\n",
       "        text-align: right;\n",
       "    }\n",
       "</style>\n",
       "<table border=\"1\" class=\"dataframe\">\n",
       "  <thead>\n",
       "    <tr style=\"text-align: right;\">\n",
       "      <th></th>\n",
       "      <th>Customer Age</th>\n",
       "      <th>Customer Gender</th>\n",
       "      <th>Product Purchased</th>\n",
       "      <th>Date of Purchase</th>\n",
       "      <th>Ticket Type</th>\n",
       "      <th>Ticket Subject</th>\n",
       "      <th>Ticket Description</th>\n",
       "      <th>Ticket Status</th>\n",
       "      <th>Ticket Channel</th>\n",
       "      <th>purchaseday</th>\n",
       "      <th>purchasemonth</th>\n",
       "      <th>purchaseyear</th>\n",
       "    </tr>\n",
       "  </thead>\n",
       "  <tbody>\n",
       "    <tr>\n",
       "      <th>0</th>\n",
       "      <td>32</td>\n",
       "      <td>3</td>\n",
       "      <td>GoPro Hero</td>\n",
       "      <td>2021-03-22</td>\n",
       "      <td>2.0</td>\n",
       "      <td>Product setup</td>\n",
       "      <td>I'm having an issue with the {product_purchase...</td>\n",
       "      <td>Pending Customer Response</td>\n",
       "      <td>Social media</td>\n",
       "      <td>22</td>\n",
       "      <td>3</td>\n",
       "      <td>2021</td>\n",
       "    </tr>\n",
       "    <tr>\n",
       "      <th>1</th>\n",
       "      <td>42</td>\n",
       "      <td>1</td>\n",
       "      <td>LG Smart TV</td>\n",
       "      <td>2021-05-22</td>\n",
       "      <td>2.0</td>\n",
       "      <td>Peripheral compatibility</td>\n",
       "      <td>I'm having an issue with the {product_purchase...</td>\n",
       "      <td>Pending Customer Response</td>\n",
       "      <td>Chat</td>\n",
       "      <td>22</td>\n",
       "      <td>5</td>\n",
       "      <td>2021</td>\n",
       "    </tr>\n",
       "    <tr>\n",
       "      <th>2</th>\n",
       "      <td>48</td>\n",
       "      <td>3</td>\n",
       "      <td>Dell XPS</td>\n",
       "      <td>2020-07-14</td>\n",
       "      <td>2.0</td>\n",
       "      <td>Network problem</td>\n",
       "      <td>I'm facing a problem with my {product_purchase...</td>\n",
       "      <td>Closed</td>\n",
       "      <td>Social media</td>\n",
       "      <td>14</td>\n",
       "      <td>7</td>\n",
       "      <td>2020</td>\n",
       "    </tr>\n",
       "    <tr>\n",
       "      <th>3</th>\n",
       "      <td>27</td>\n",
       "      <td>1</td>\n",
       "      <td>Microsoft Office</td>\n",
       "      <td>2020-11-13</td>\n",
       "      <td>NaN</td>\n",
       "      <td>Account access</td>\n",
       "      <td>I'm having an issue with the {product_purchase...</td>\n",
       "      <td>Closed</td>\n",
       "      <td>Social media</td>\n",
       "      <td>13</td>\n",
       "      <td>11</td>\n",
       "      <td>2020</td>\n",
       "    </tr>\n",
       "    <tr>\n",
       "      <th>4</th>\n",
       "      <td>67</td>\n",
       "      <td>1</td>\n",
       "      <td>Autodesk AutoCAD</td>\n",
       "      <td>2020-02-04</td>\n",
       "      <td>NaN</td>\n",
       "      <td>Data loss</td>\n",
       "      <td>I'm having an issue with the {product_purchase...</td>\n",
       "      <td>Closed</td>\n",
       "      <td>Email</td>\n",
       "      <td>4</td>\n",
       "      <td>2</td>\n",
       "      <td>2020</td>\n",
       "    </tr>\n",
       "  </tbody>\n",
       "</table>\n",
       "</div>"
      ],
      "text/plain": [
       "   Customer Age  Customer Gender Product Purchased Date of Purchase  \\\n",
       "0            32                3        GoPro Hero       2021-03-22   \n",
       "1            42                1       LG Smart TV       2021-05-22   \n",
       "2            48                3          Dell XPS       2020-07-14   \n",
       "3            27                1  Microsoft Office       2020-11-13   \n",
       "4            67                1  Autodesk AutoCAD       2020-02-04   \n",
       "\n",
       "   Ticket Type            Ticket Subject  \\\n",
       "0          2.0             Product setup   \n",
       "1          2.0  Peripheral compatibility   \n",
       "2          2.0           Network problem   \n",
       "3          NaN            Account access   \n",
       "4          NaN                 Data loss   \n",
       "\n",
       "                                  Ticket Description  \\\n",
       "0  I'm having an issue with the {product_purchase...   \n",
       "1  I'm having an issue with the {product_purchase...   \n",
       "2  I'm facing a problem with my {product_purchase...   \n",
       "3  I'm having an issue with the {product_purchase...   \n",
       "4  I'm having an issue with the {product_purchase...   \n",
       "\n",
       "               Ticket Status Ticket Channel  purchaseday  purchasemonth  \\\n",
       "0  Pending Customer Response   Social media           22              3   \n",
       "1  Pending Customer Response           Chat           22              5   \n",
       "2                     Closed   Social media           14              7   \n",
       "3                     Closed   Social media           13             11   \n",
       "4                     Closed          Email            4              2   \n",
       "\n",
       "   purchaseyear  \n",
       "0          2021  \n",
       "1          2021  \n",
       "2          2020  \n",
       "3          2020  \n",
       "4          2020  "
      ]
     },
     "execution_count": 23,
     "metadata": {},
     "output_type": "execute_result"
    }
   ],
   "source": [
    "x['Date of Purchase'] = pd.to_datetime(x['Date of Purchase'])\n",
    "x['purchaseday'] = x['Date of Purchase'].dt.day\n",
    "x['purchasemonth'] = x['Date of Purchase'].dt.month\n",
    "x['purchaseyear'] = x['Date of Purchase'].dt.year\n",
    "x.head()"
   ]
  },
  {
   "cell_type": "code",
   "execution_count": null,
   "id": "64b17574",
   "metadata": {},
   "outputs": [],
   "source": [
    "objcols = ['Product Purchased']"
   ]
  }
 ],
 "metadata": {
  "kernelspec": {
   "display_name": ".venv",
   "language": "python",
   "name": "python3"
  },
  "language_info": {
   "codemirror_mode": {
    "name": "ipython",
    "version": 3
   },
   "file_extension": ".py",
   "mimetype": "text/x-python",
   "name": "python",
   "nbconvert_exporter": "python",
   "pygments_lexer": "ipython3",
   "version": "3.12.3"
  }
 },
 "nbformat": 4,
 "nbformat_minor": 5
}
